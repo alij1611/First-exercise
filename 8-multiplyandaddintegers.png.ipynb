{
 "cells": [
  {
   "cell_type": "code",
   "execution_count": 1,
   "id": "0be63065",
   "metadata": {},
   "outputs": [],
   "source": [
    "# Multiply and Add Numbers"
   ]
  },
  {
   "cell_type": "code",
   "execution_count": 2,
   "id": "7912efc8",
   "metadata": {},
   "outputs": [],
   "source": [
    "# Multiplication\n",
    "# result = 2 * 6  # Multiplies 2 and 6, result is 12"
   ]
  },
  {
   "cell_type": "code",
   "execution_count": 3,
   "id": "2ae8737f",
   "metadata": {},
   "outputs": [],
   "source": [
    "# Addition:\n",
    "# result = 5 + 3  # Adds 5 and 3, result is 8"
   ]
  },
  {
   "cell_type": "code",
   "execution_count": null,
   "id": "ba18ab25",
   "metadata": {},
   "outputs": [],
   "source": []
  }
 ],
 "metadata": {
  "kernelspec": {
   "display_name": "Python 3 (ipykernel)",
   "language": "python",
   "name": "python3"
  },
  "language_info": {
   "codemirror_mode": {
    "name": "ipython",
    "version": 3
   },
   "file_extension": ".py",
   "mimetype": "text/x-python",
   "name": "python",
   "nbconvert_exporter": "python",
   "pygments_lexer": "ipython3",
   "version": "3.11.5"
  }
 },
 "nbformat": 4,
 "nbformat_minor": 5
}
