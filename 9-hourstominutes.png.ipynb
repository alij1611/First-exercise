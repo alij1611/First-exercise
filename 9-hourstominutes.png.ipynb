{
 "cells": [
  {
   "cell_type": "code",
   "execution_count": 3,
   "id": "65a2463c",
   "metadata": {},
   "outputs": [],
   "source": [
    "# Convert Minutes to Hours\n",
    "\n",
    "# Define the number of minutes\n",
    "# minutes = 120\n",
    "\n",
    "# Convert minutes to hours\n",
    "# hours = minutes / 60\n",
    "\n",
    "# Print the result\n",
    "# print(f\"{minutes} minutes is equal to {hours} hours.\")\n"
   ]
  },
  {
   "cell_type": "code",
   "execution_count": null,
   "id": "a936e2c1",
   "metadata": {},
   "outputs": [],
   "source": []
  }
 ],
 "metadata": {
  "kernelspec": {
   "display_name": "Python 3 (ipykernel)",
   "language": "python",
   "name": "python3"
  },
  "language_info": {
   "codemirror_mode": {
    "name": "ipython",
    "version": 3
   },
   "file_extension": ".py",
   "mimetype": "text/x-python",
   "name": "python",
   "nbconvert_exporter": "python",
   "pygments_lexer": "ipython3",
   "version": "3.11.5"
  }
 },
 "nbformat": 4,
 "nbformat_minor": 5
}
