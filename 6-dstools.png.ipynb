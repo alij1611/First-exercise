{
 "cells": [
  {
   "cell_type": "code",
   "execution_count": 1,
   "id": "f2c096ca",
   "metadata": {},
   "outputs": [],
   "source": [
    "# Data Science Tools"
   ]
  },
  {
   "cell_type": "code",
   "execution_count": 2,
   "id": "8fd99250",
   "metadata": {},
   "outputs": [],
   "source": [
    "# Programming Languages"
   ]
  },
  {
   "cell_type": "code",
   "execution_count": 3,
   "id": "05c8877e",
   "metadata": {},
   "outputs": [],
   "source": [
    "# Machine Learning Frameworks"
   ]
  },
  {
   "cell_type": "code",
   "execution_count": 4,
   "id": "e4a844bb",
   "metadata": {},
   "outputs": [],
   "source": [
    "# Visualization Tools"
   ]
  },
  {
   "cell_type": "code",
   "execution_count": 5,
   "id": "d49d29dd",
   "metadata": {},
   "outputs": [],
   "source": [
    "# Data Processing and Analysis"
   ]
  },
  {
   "cell_type": "code",
   "execution_count": 6,
   "id": "1742f23a",
   "metadata": {},
   "outputs": [],
   "source": [
    "# Natural Language Processing (NLP)"
   ]
  },
  {
   "cell_type": "code",
   "execution_count": null,
   "id": "b796ac1f",
   "metadata": {},
   "outputs": [],
   "source": []
  }
 ],
 "metadata": {
  "kernelspec": {
   "display_name": "Python 3 (ipykernel)",
   "language": "python",
   "name": "python3"
  },
  "language_info": {
   "codemirror_mode": {
    "name": "ipython",
    "version": 3
   },
   "file_extension": ".py",
   "mimetype": "text/x-python",
   "name": "python",
   "nbconvert_exporter": "python",
   "pygments_lexer": "ipython3",
   "version": "3.11.5"
  }
 },
 "nbformat": 4,
 "nbformat_minor": 5
}
