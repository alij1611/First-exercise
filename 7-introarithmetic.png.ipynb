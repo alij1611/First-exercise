{
 "cells": [
  {
   "cell_type": "code",
   "execution_count": 11,
   "id": "14deb296",
   "metadata": {},
   "outputs": [],
   "source": [
    "# Arithmetic Expressions Examples\n",
    "\n",
    "# Addition:\n",
    "# result = 5 + 3  # Adds 5 and 3, result is 8\n"
   ]
  },
  {
   "cell_type": "code",
   "execution_count": 9,
   "id": "4a816fce",
   "metadata": {},
   "outputs": [],
   "source": [
    "# Subtraction \n",
    "# result = 10 - 4  # Subtracts 4 from 10, result is 6\n"
   ]
  },
  {
   "cell_type": "code",
   "execution_count": null,
   "id": "2c2e2208",
   "metadata": {},
   "outputs": [],
   "source": [
    "# Multiplication\n",
    "# result = 2 * 6  # Multiplies 2 and 6, result is 12\n"
   ]
  },
  {
   "cell_type": "code",
   "execution_count": 12,
   "id": "9058b498",
   "metadata": {},
   "outputs": [],
   "source": [
    "# Division:\n",
    "# result = 15 / 3  # Divides 15 by 3, result is 5.0 (float)\n"
   ]
  },
  {
   "cell_type": "code",
   "execution_count": 13,
   "id": "099b2170",
   "metadata": {},
   "outputs": [],
   "source": [
    "# Mixed Operations:\n",
    "# result = (4 + 2) * 3 - 5  # Adds 4 and 2, multiplies by 3, and then subtracts 5, result is 15\n"
   ]
  },
  {
   "cell_type": "code",
   "execution_count": null,
   "id": "41243bf8",
   "metadata": {},
   "outputs": [],
   "source": []
  }
 ],
 "metadata": {
  "kernelspec": {
   "display_name": "Python 3 (ipykernel)",
   "language": "python",
   "name": "python3"
  },
  "language_info": {
   "codemirror_mode": {
    "name": "ipython",
    "version": 3
   },
   "file_extension": ".py",
   "mimetype": "text/x-python",
   "name": "python",
   "nbconvert_exporter": "python",
   "pygments_lexer": "ipython3",
   "version": "3.11.5"
  }
 },
 "nbformat": 4,
 "nbformat_minor": 5
}
