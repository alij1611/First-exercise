{
 "cells": [
  {
   "cell_type": "code",
   "execution_count": 6,
   "id": "7011e32d",
   "metadata": {},
   "outputs": [],
   "source": [
    "# Data Science Languages"
   ]
  },
  {
   "cell_type": "code",
   "execution_count": 9,
   "id": "5740460d",
   "metadata": {},
   "outputs": [],
   "source": [
    "# Python"
   ]
  },
  {
   "cell_type": "code",
   "execution_count": 10,
   "id": "c35eecfd",
   "metadata": {},
   "outputs": [],
   "source": [
    "# R"
   ]
  },
  {
   "cell_type": "code",
   "execution_count": 11,
   "id": "a69063f3",
   "metadata": {},
   "outputs": [],
   "source": [
    "# SQL"
   ]
  },
  {
   "cell_type": "code",
   "execution_count": 12,
   "id": "be8f8b9b",
   "metadata": {},
   "outputs": [],
   "source": [
    "# Julia"
   ]
  },
  {
   "cell_type": "code",
   "execution_count": 13,
   "id": "748589c9",
   "metadata": {},
   "outputs": [],
   "source": [
    "# Scala"
   ]
  },
  {
   "cell_type": "code",
   "execution_count": 14,
   "id": "3b458f58",
   "metadata": {},
   "outputs": [],
   "source": [
    "# MATLAB"
   ]
  },
  {
   "cell_type": "code",
   "execution_count": 15,
   "id": "4faf0162",
   "metadata": {},
   "outputs": [],
   "source": [
    "# Java"
   ]
  },
  {
   "cell_type": "code",
   "execution_count": 16,
   "id": "616f362e",
   "metadata": {},
   "outputs": [],
   "source": [
    "# SAS"
   ]
  },
  {
   "cell_type": "code",
   "execution_count": null,
   "id": "af5dc700",
   "metadata": {},
   "outputs": [],
   "source": []
  }
 ],
 "metadata": {
  "kernelspec": {
   "display_name": "Python 3 (ipykernel)",
   "language": "python",
   "name": "python3"
  },
  "language_info": {
   "codemirror_mode": {
    "name": "ipython",
    "version": 3
   },
   "file_extension": ".py",
   "mimetype": "text/x-python",
   "name": "python",
   "nbconvert_exporter": "python",
   "pygments_lexer": "ipython3",
   "version": "3.11.5"
  }
 },
 "nbformat": 4,
 "nbformat_minor": 5
}
